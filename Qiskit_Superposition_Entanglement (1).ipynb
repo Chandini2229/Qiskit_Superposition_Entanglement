{
  "cells": [
    {
      "cell_type": "markdown",
      "metadata": {
        "id": "X2W5OpxSv-y2"
      },
      "source": [
        "# Superposition and Entanglement in Qiskit\n",
        "This notebook demonstrates:\n",
        "1. **Superposition** using a single qubit.\n",
        "2. **Entanglement** using two qubits.\n",
        "We will use Qiskit to create circuits, visualize the states, and measure outcomes."
      ],
      "id": "X2W5OpxSv-y2"
    },
    {
      "cell_type": "code",
      "source": [],
      "metadata": {
        "id": "_4Zwk-GrruMD"
      },
      "id": "_4Zwk-GrruMD",
      "execution_count": null,
      "outputs": []
    },
    {
      "cell_type": "code",
      "metadata": {
        "id": "NOQIWRacv-y3"
      },
      "source": [
        "# ===========================\n",
        "# Install Qiskit, Aer and pylatexenc\n",
        "# ===========================\n",
        "!pip install qiskit --quiet\n",
        "!pip install qiskit-aer --quiet\n",
        "\n"
      ],
      "execution_count": null,
      "outputs": [],
      "id": "NOQIWRacv-y3"
    },
    {
      "cell_type": "code",
      "metadata": {
        "id": "4vIIe5A0v-y4"
      },
      "source": [
        "# ===========================\n",
        "# Import Libraries\n",
        "# ===========================\n",
        "from qiskit import QuantumCircuit\n",
        "from qiskit_aer import AerSimulator\n",
        "from qiskit.visualization import plot_histogram, plot_bloch_multivector\n",
        "from qiskit.quantum_info import Statevector\n",
        "import matplotlib.pyplot as plt\n"
      ],
      "execution_count": null,
      "outputs": [],
      "id": "4vIIe5A0v-y4"
    },
    {
      "cell_type": "markdown",
      "metadata": {
        "id": "B_QEU5O6v-y4"
      },
      "source": [
        "## 1. Superposition Example"
      ],
      "id": "B_QEU5O6v-y4"
    },
    {
      "cell_type": "code",
      "metadata": {
        "id": "mPhcfNBxv-y5"
      },
      "source": [
        "# ===========================\n",
        "# Superposition Example\n",
        "# ===========================\n",
        "# Create 1-qubit circuit\n",
        "qc_super = QuantumCircuit(1)\n",
        "\n",
        "# Apply Hadamard gate to create superposition\n",
        "qc_super.h(0)\n",
        "\n",
        "# Draw the circuit\n",
        "qc_super.draw('text')\n",
        "\n",
        "# Get statevector\n",
        "state_super = Statevector.from_instruction(qc_super)\n",
        "plot_bloch_multivector(state_super)\n",
        "plt.show()\n",
        "\n",
        "# Measure and simulate\n",
        "qc_super.measure_all()\n",
        "simulator = AerSimulator()\n",
        "job_super = simulator.run(qc_super, shots=1024)\n",
        "result_super = job_super.result()\n",
        "counts_super = result_super.get_counts()\n",
        "print(\"Superposition Measurement Counts:\", counts_super)\n",
        "plot_histogram(counts_super)\n",
        "plt.show()"
      ],
      "execution_count": null,
      "outputs": [],
      "id": "mPhcfNBxv-y5"
    },
    {
      "cell_type": "markdown",
      "metadata": {
        "id": "PWL3wDZWv-y6"
      },
      "source": [
        "## 2. Entanglement Example"
      ],
      "id": "PWL3wDZWv-y6"
    },
    {
      "cell_type": "code",
      "metadata": {
        "id": "dj2F4Yswv-y6"
      },
      "source": [
        "# ===========================\n",
        "# Entanglement Example\n",
        "# ===========================\n",
        "# Create 2-qubit circuit\n",
        "qc_ent = QuantumCircuit(2)\n",
        "\n",
        "# Apply Hadamard on qubit 0\n",
        "qc_ent.h(0)\n",
        "\n",
        "# Apply CNOT to entangle qubit 0 and 1\n",
        "qc_ent.cx(0, 1)\n",
        "\n",
        "# Draw the circuit\n",
        "qc_ent.draw('text')\n",
        "\n",
        "# Get statevector\n",
        "state_ent = Statevector.from_instruction(qc_ent)\n",
        "print(\"Entangled Statevector:\", state_ent)\n",
        "plot_bloch_multivector(state_ent)\n",
        "plt.show()\n",
        "\n",
        "# Measure and simulate\n",
        "qc_ent.measure_all()\n",
        "job_ent = simulator.run(qc_ent, shots=1024)\n",
        "result_ent = job_ent.result()\n",
        "counts_ent = result_ent.get_counts()\n",
        "print(\"Entanglement Measurement Counts:\", counts_ent)\n",
        "plot_histogram(counts_ent)\n",
        "plt.show()"
      ],
      "execution_count": null,
      "outputs": [],
      "id": "dj2F4Yswv-y6"
    },
    {
      "cell_type": "code",
      "source": [
        "# 🧩 Task 1: Superposition\n",
        "# ============================================================\n",
        "print(\"Task 1: Superposition (Single Qubit)\")\n",
        "print(\"=\" * 50)\n",
        "\n",
        "# Create 1-qubit circuit\n",
        "qc_super = QuantumCircuit(1)\n",
        "\n",
        "# Apply Hadamard gate to create superposition: |0> → (|0> + |1>)/√2\n",
        "qc_super.h(0)\n",
        "\n",
        "# Draw the circuit\n",
        "print(\"\\nQuantum Circuit:\")\n",
        "print(qc_super.draw('text'))\n",
        "\n",
        "# Visualize the state on the Bloch sphere\n",
        "state_super = Statevector.from_instruction(qc_super)\n",
        "plot_bloch_multivector(state_super)\n",
        "plt.show()\n",
        "\n",
        "# Measure the qubit\n",
        "qc_super.measure_all()\n",
        "\n",
        "# Simulate measurements\n",
        "job_super = simulator.run(qc_super, shots=1024)\n",
        "result_super = job_super.result()\n",
        "counts_super = result_super.get_counts()\n",
        "\n",
        "print(\"\\nMeasurement Results (Superposition):\")\n",
        "print(counts_super)\n",
        "\n",
        "# Plot histogram of results\n",
        "plot_histogram(counts_super)\n",
        "plt.title(\"Superposition Measurement: ~50% |0> and ~50% |1>\")\n",
        "plt.show()\n",
        "\n",
        "print(\"\\nObservation:\")\n",
        "print(\"A single qubit after Hadamard shows approximately equal probabilities for |0> and |1>.\")\n",
        "print(\"This demonstrates quantum superposition.\\n\")"
      ],
      "metadata": {
        "id": "_E0WobQtrvCR"
      },
      "id": "_E0WobQtrvCR",
      "execution_count": null,
      "outputs": []
    },
    {
      "cell_type": "code",
      "metadata": {
        "id": "Mw1ltQKxsHJR"
      },
      "source": [
        "print(\"Task 2: Entanglement (Two Qubits)\")\n",
        "print(\"=\" * 50)\n",
        "\n",
        "# Create 2-qubit circuit\n",
        "qc_ent = QuantumCircuit(2)\n",
        "\n",
        "# Apply H on qubit 0 to create superposition\n",
        "qc_ent.h(0)\n",
        "\n",
        "# Apply CNOT gate to entangle qubit 0 and 1\n",
        "qc_ent.cx(0, 1)\n",
        "\n",
        "# Draw the circuit\n",
        "print(\"\\nQuantum Circuit:\")\n",
        "print(qc_ent.draw('text'))\n",
        "\n",
        "# Visualize entangled state\n",
        "state_ent = Statevector.from_instruction(qc_ent)\n",
        "print(\"\\nEntangled Statevector:\")\n",
        "print(state_ent)\n",
        "\n",
        "# Measure both qubits\n",
        "qc_ent.measure_all()\n",
        "\n",
        "# Simulate measurements\n",
        "job_ent = simulator.run(qc_ent, shots=1024)\n",
        "result_ent = job_ent.result()\n",
        "counts_ent = result_ent.get_counts()\n",
        "\n",
        "print(\"\\nMeasurement Results (Entanglement):\")\n",
        "print(counts_ent)\n",
        "# Plot histogram of correlated results\n",
        "plot_histogram(counts_ent)\n",
        "plt.title(\"Entanglement Measurement: Correlated outcomes |00> and |11>\")\n",
        "plt.show()\n",
        "\n",
        "print(\"\\nObservation:\")\n",
        "print(\"When two qubits are entangled, measuring one instantly determines the other.\")\n",
        "print(\"Outcomes are strongly correlated — typically only |00> and |11> appear.\")"
      ],
      "execution_count": null,
      "outputs": [],
      "id": "Mw1ltQKxsHJR"
    },
    {
      "cell_type": "code",
      "metadata": {
        "id": "T5DbmCp6rvjM"
      },
      "source": [],
      "execution_count": null,
      "outputs": [],
      "id": "T5DbmCp6rvjM"
    }
  ],
  "metadata": {
    "kernelspec": {
      "display_name": "Python 3",
      "language": "python",
      "name": "python3"
    },
    "language_info": {
      "name": "python",
      "version": "3.10"
    },
    "colab": {
      "provenance": []
    }
  },
  "nbformat": 4,
  "nbformat_minor": 5
}